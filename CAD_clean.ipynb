{
 "cells": [
  {
   "cell_type": "code",
   "execution_count": 18,
   "metadata": {},
   "outputs": [],
   "source": [
    "import pandas as pd\n",
    "import numpy as np\n",
    "import matplotlib.pyplot as plt\n",
    "import seaborn as sns\n",
    "import datetime as dt"
   ]
  },
  {
   "attachments": {},
   "cell_type": "markdown",
   "metadata": {},
   "source": [
    "## Reading In Data"
   ]
  },
  {
   "cell_type": "code",
   "execution_count": 19,
   "metadata": {},
   "outputs": [
    {
     "data": {
      "text/html": [
       "<div>\n",
       "<style scoped>\n",
       "    .dataframe tbody tr th:only-of-type {\n",
       "        vertical-align: middle;\n",
       "    }\n",
       "\n",
       "    .dataframe tbody tr th {\n",
       "        vertical-align: top;\n",
       "    }\n",
       "\n",
       "    .dataframe thead th {\n",
       "        text-align: right;\n",
       "    }\n",
       "</style>\n",
       "<table border=\"1\" class=\"dataframe\">\n",
       "  <thead>\n",
       "    <tr style=\"text-align: right;\">\n",
       "      <th></th>\n",
       "      <th>yr</th>\n",
       "      <th>service</th>\n",
       "      <th>inci_id</th>\n",
       "      <th>calltime</th>\n",
       "      <th>case_id</th>\n",
       "      <th>callsource</th>\n",
       "      <th>nature</th>\n",
       "      <th>closecode</th>\n",
       "      <th>closed_as</th>\n",
       "      <th>secs_to_disp</th>\n",
       "      <th>secs_to_arrv</th>\n",
       "      <th>secs_to_close</th>\n",
       "      <th>disp</th>\n",
       "      <th>arrv</th>\n",
       "      <th>beat</th>\n",
       "      <th>priority</th>\n",
       "      <th>zip</th>\n",
       "      <th>primeunit</th>\n",
       "      <th>units_dispd</th>\n",
       "      <th>units_arrived</th>\n",
       "    </tr>\n",
       "  </thead>\n",
       "  <tbody>\n",
       "    <tr>\n",
       "      <th>0</th>\n",
       "      <td>2014</td>\n",
       "      <td>LAW</td>\n",
       "      <td>14000001</td>\n",
       "      <td>2014-01-01 00:00:05.000</td>\n",
       "      <td>NaN</td>\n",
       "      <td>SELF</td>\n",
       "      <td>TRAFFIC STOP</td>\n",
       "      <td>UTC</td>\n",
       "      <td>UNIFORM TRAFFIC CITATION ISSUED</td>\n",
       "      <td>1.0</td>\n",
       "      <td>1.0</td>\n",
       "      <td>690</td>\n",
       "      <td>1</td>\n",
       "      <td>1</td>\n",
       "      <td>EP05</td>\n",
       "      <td>6</td>\n",
       "      <td>97402</td>\n",
       "      <td>5Z51</td>\n",
       "      <td>1</td>\n",
       "      <td>1</td>\n",
       "    </tr>\n",
       "    <tr>\n",
       "      <th>1</th>\n",
       "      <td>2014</td>\n",
       "      <td>LAW</td>\n",
       "      <td>14000003</td>\n",
       "      <td>2014-01-01 00:01:50.000</td>\n",
       "      <td>NaN</td>\n",
       "      <td>SELF</td>\n",
       "      <td>TRAFFIC STOP</td>\n",
       "      <td>ADVI</td>\n",
       "      <td>ADVISED</td>\n",
       "      <td>0.0</td>\n",
       "      <td>0.0</td>\n",
       "      <td>170</td>\n",
       "      <td>1</td>\n",
       "      <td>1</td>\n",
       "      <td>EP02</td>\n",
       "      <td>6</td>\n",
       "      <td>97401</td>\n",
       "      <td>5T82</td>\n",
       "      <td>2</td>\n",
       "      <td>2</td>\n",
       "    </tr>\n",
       "    <tr>\n",
       "      <th>2</th>\n",
       "      <td>2014</td>\n",
       "      <td>LAW</td>\n",
       "      <td>14000006</td>\n",
       "      <td>2014-01-01 00:05:17.000</td>\n",
       "      <td>NaN</td>\n",
       "      <td>PHONE</td>\n",
       "      <td>DISPUTE</td>\n",
       "      <td>ADVI</td>\n",
       "      <td>ADVISED</td>\n",
       "      <td>219.0</td>\n",
       "      <td>596.0</td>\n",
       "      <td>1444</td>\n",
       "      <td>1</td>\n",
       "      <td>1</td>\n",
       "      <td>EP01</td>\n",
       "      <td>3</td>\n",
       "      <td>97401</td>\n",
       "      <td>5E93</td>\n",
       "      <td>3</td>\n",
       "      <td>2</td>\n",
       "    </tr>\n",
       "    <tr>\n",
       "      <th>3</th>\n",
       "      <td>2014</td>\n",
       "      <td>LAW</td>\n",
       "      <td>14000007</td>\n",
       "      <td>2014-01-01 00:08:36.000</td>\n",
       "      <td>NaN</td>\n",
       "      <td>SELF</td>\n",
       "      <td>TRAFFIC STOP</td>\n",
       "      <td>WARN</td>\n",
       "      <td>WARNING</td>\n",
       "      <td>0.0</td>\n",
       "      <td>0.0</td>\n",
       "      <td>427</td>\n",
       "      <td>1</td>\n",
       "      <td>1</td>\n",
       "      <td>EP02</td>\n",
       "      <td>6</td>\n",
       "      <td>97401</td>\n",
       "      <td>5E31</td>\n",
       "      <td>2</td>\n",
       "      <td>2</td>\n",
       "    </tr>\n",
       "    <tr>\n",
       "      <th>4</th>\n",
       "      <td>2014</td>\n",
       "      <td>LAW</td>\n",
       "      <td>14000011</td>\n",
       "      <td>2014-01-01 00:10:21.000</td>\n",
       "      <td>NaN</td>\n",
       "      <td>E911</td>\n",
       "      <td>THEFT</td>\n",
       "      <td>RSLV</td>\n",
       "      <td>RESOLVED</td>\n",
       "      <td>168.0</td>\n",
       "      <td>380.0</td>\n",
       "      <td>1126</td>\n",
       "      <td>1</td>\n",
       "      <td>1</td>\n",
       "      <td>EP05</td>\n",
       "      <td>3</td>\n",
       "      <td>97402</td>\n",
       "      <td>6E45</td>\n",
       "      <td>2</td>\n",
       "      <td>2</td>\n",
       "    </tr>\n",
       "  </tbody>\n",
       "</table>\n",
       "</div>"
      ],
      "text/plain": [
       "     yr service   inci_id                 calltime  case_id callsource  \\\n",
       "0  2014    LAW   14000001  2014-01-01 00:00:05.000      NaN       SELF   \n",
       "1  2014    LAW   14000003  2014-01-01 00:01:50.000      NaN       SELF   \n",
       "2  2014    LAW   14000006  2014-01-01 00:05:17.000      NaN      PHONE   \n",
       "3  2014    LAW   14000007  2014-01-01 00:08:36.000      NaN       SELF   \n",
       "4  2014    LAW   14000011  2014-01-01 00:10:21.000      NaN       E911   \n",
       "\n",
       "         nature closecode                        closed_as  secs_to_disp  \\\n",
       "0  TRAFFIC STOP      UTC   UNIFORM TRAFFIC CITATION ISSUED           1.0   \n",
       "1  TRAFFIC STOP      ADVI                          ADVISED           0.0   \n",
       "2       DISPUTE      ADVI                          ADVISED         219.0   \n",
       "3  TRAFFIC STOP      WARN                          WARNING           0.0   \n",
       "4         THEFT      RSLV                         RESOLVED         168.0   \n",
       "\n",
       "   secs_to_arrv  secs_to_close  disp  arrv  beat priority    zip primeunit  \\\n",
       "0           1.0            690     1     1  EP05        6  97402    5Z51     \n",
       "1           0.0            170     1     1  EP02        6  97401    5T82     \n",
       "2         596.0           1444     1     1  EP01        3  97401    5E93     \n",
       "3           0.0            427     1     1  EP02        6  97401    5E31     \n",
       "4         380.0           1126     1     1  EP05        3  97402    6E45     \n",
       "\n",
       "   units_dispd  units_arrived  \n",
       "0            1              1  \n",
       "1            2              2  \n",
       "2            3              2  \n",
       "3            2              2  \n",
       "4            2              2  "
      ]
     },
     "execution_count": 19,
     "metadata": {},
     "output_type": "execute_result"
    }
   ],
   "source": [
    "call14 = pd.read_csv('CAD_data_through_2025/class_data_2014.csv')\n",
    "call14.head()"
   ]
  },
  {
   "cell_type": "code",
   "execution_count": 51,
   "metadata": {},
   "outputs": [],
   "source": [
    "call15 = pd.read_csv(\"CAD_data_through_2025/class_data_2015.csv\")\n",
    "call16 = pd.read_csv(\"CAD_data_through_2025/class_data_2016.csv\")\n",
    "call17 = pd.read_csv(\"CAD_data_through_2025/class_data_2017.csv\", low_memory=False)\n",
    "call18 = pd.read_csv(\"CAD_data_through_2025/class_data_2018.csv\", low_memory=False)\n",
    "call19 = pd.read_csv(\"CAD_data_through_2025/class_data_2019.csv\", low_memory=False)\n",
    "call20 = pd.read_csv(\"CAD_data_through_2025/class_data_2020.csv\", low_memory=False)\n",
    "call21 = pd.read_csv(\"CAD_data_through_2025/class_data_2021.csv\", low_memory=False)\n",
    "call22 = pd.read_csv(\"CAD_data_through_2025/class_data_2022.csv\", low_memory=False)\n",
    "call23 = pd.read_csv(\"CAD_data_through_2025/class_data_2023.csv\", low_memory=False)\n",
    "call24 = pd.read_csv(\"CAD_data_through_2025/class_data_2024.csv\", low_memory=False)\n",
    "call25 = pd.read_csv(\"CAD_data_through_2025/class_data_2025.csv\", low_memory=False)\n"
   ]
  },
  {
   "cell_type": "code",
   "execution_count": 52,
   "metadata": {},
   "outputs": [
    {
     "data": {
      "text/html": [
       "<div>\n",
       "<style scoped>\n",
       "    .dataframe tbody tr th:only-of-type {\n",
       "        vertical-align: middle;\n",
       "    }\n",
       "\n",
       "    .dataframe tbody tr th {\n",
       "        vertical-align: top;\n",
       "    }\n",
       "\n",
       "    .dataframe thead th {\n",
       "        text-align: right;\n",
       "    }\n",
       "</style>\n",
       "<table border=\"1\" class=\"dataframe\">\n",
       "  <thead>\n",
       "    <tr style=\"text-align: right;\">\n",
       "      <th></th>\n",
       "      <th>yr</th>\n",
       "      <th>service</th>\n",
       "      <th>inci_id</th>\n",
       "      <th>calltime</th>\n",
       "      <th>case_id</th>\n",
       "      <th>callsource</th>\n",
       "      <th>nature</th>\n",
       "      <th>closecode</th>\n",
       "      <th>closed_as</th>\n",
       "      <th>secs_to_disp</th>\n",
       "      <th>secs_to_arrv</th>\n",
       "      <th>secs_to_close</th>\n",
       "      <th>disp</th>\n",
       "      <th>arrv</th>\n",
       "      <th>beat</th>\n",
       "      <th>priority</th>\n",
       "      <th>zip</th>\n",
       "      <th>primeunit</th>\n",
       "      <th>units_dispd</th>\n",
       "      <th>units_arrived</th>\n",
       "    </tr>\n",
       "  </thead>\n",
       "  <tbody>\n",
       "    <tr>\n",
       "      <th>0</th>\n",
       "      <td>2014</td>\n",
       "      <td>LAW</td>\n",
       "      <td>14000001</td>\n",
       "      <td>2014-01-01 00:00:05.000</td>\n",
       "      <td>NaN</td>\n",
       "      <td>SELF</td>\n",
       "      <td>TRAFFIC STOP</td>\n",
       "      <td>UTC</td>\n",
       "      <td>UNIFORM TRAFFIC CITATION ISSUED</td>\n",
       "      <td>1.0</td>\n",
       "      <td>1.0</td>\n",
       "      <td>690</td>\n",
       "      <td>1</td>\n",
       "      <td>1</td>\n",
       "      <td>EP05</td>\n",
       "      <td>6</td>\n",
       "      <td>97402</td>\n",
       "      <td>5Z51</td>\n",
       "      <td>1</td>\n",
       "      <td>1</td>\n",
       "    </tr>\n",
       "    <tr>\n",
       "      <th>1</th>\n",
       "      <td>2014</td>\n",
       "      <td>LAW</td>\n",
       "      <td>14000003</td>\n",
       "      <td>2014-01-01 00:01:50.000</td>\n",
       "      <td>NaN</td>\n",
       "      <td>SELF</td>\n",
       "      <td>TRAFFIC STOP</td>\n",
       "      <td>ADVI</td>\n",
       "      <td>ADVISED</td>\n",
       "      <td>0.0</td>\n",
       "      <td>0.0</td>\n",
       "      <td>170</td>\n",
       "      <td>1</td>\n",
       "      <td>1</td>\n",
       "      <td>EP02</td>\n",
       "      <td>6</td>\n",
       "      <td>97401</td>\n",
       "      <td>5T82</td>\n",
       "      <td>2</td>\n",
       "      <td>2</td>\n",
       "    </tr>\n",
       "    <tr>\n",
       "      <th>2</th>\n",
       "      <td>2014</td>\n",
       "      <td>LAW</td>\n",
       "      <td>14000006</td>\n",
       "      <td>2014-01-01 00:05:17.000</td>\n",
       "      <td>NaN</td>\n",
       "      <td>PHONE</td>\n",
       "      <td>DISPUTE</td>\n",
       "      <td>ADVI</td>\n",
       "      <td>ADVISED</td>\n",
       "      <td>219.0</td>\n",
       "      <td>596.0</td>\n",
       "      <td>1444</td>\n",
       "      <td>1</td>\n",
       "      <td>1</td>\n",
       "      <td>EP01</td>\n",
       "      <td>3</td>\n",
       "      <td>97401</td>\n",
       "      <td>5E93</td>\n",
       "      <td>3</td>\n",
       "      <td>2</td>\n",
       "    </tr>\n",
       "    <tr>\n",
       "      <th>3</th>\n",
       "      <td>2014</td>\n",
       "      <td>LAW</td>\n",
       "      <td>14000007</td>\n",
       "      <td>2014-01-01 00:08:36.000</td>\n",
       "      <td>NaN</td>\n",
       "      <td>SELF</td>\n",
       "      <td>TRAFFIC STOP</td>\n",
       "      <td>WARN</td>\n",
       "      <td>WARNING</td>\n",
       "      <td>0.0</td>\n",
       "      <td>0.0</td>\n",
       "      <td>427</td>\n",
       "      <td>1</td>\n",
       "      <td>1</td>\n",
       "      <td>EP02</td>\n",
       "      <td>6</td>\n",
       "      <td>97401</td>\n",
       "      <td>5E31</td>\n",
       "      <td>2</td>\n",
       "      <td>2</td>\n",
       "    </tr>\n",
       "    <tr>\n",
       "      <th>4</th>\n",
       "      <td>2014</td>\n",
       "      <td>LAW</td>\n",
       "      <td>14000011</td>\n",
       "      <td>2014-01-01 00:10:21.000</td>\n",
       "      <td>NaN</td>\n",
       "      <td>E911</td>\n",
       "      <td>THEFT</td>\n",
       "      <td>RSLV</td>\n",
       "      <td>RESOLVED</td>\n",
       "      <td>168.0</td>\n",
       "      <td>380.0</td>\n",
       "      <td>1126</td>\n",
       "      <td>1</td>\n",
       "      <td>1</td>\n",
       "      <td>EP05</td>\n",
       "      <td>3</td>\n",
       "      <td>97402</td>\n",
       "      <td>6E45</td>\n",
       "      <td>2</td>\n",
       "      <td>2</td>\n",
       "    </tr>\n",
       "  </tbody>\n",
       "</table>\n",
       "</div>"
      ],
      "text/plain": [
       "     yr service   inci_id                 calltime case_id callsource  \\\n",
       "0  2014    LAW   14000001  2014-01-01 00:00:05.000     NaN       SELF   \n",
       "1  2014    LAW   14000003  2014-01-01 00:01:50.000     NaN       SELF   \n",
       "2  2014    LAW   14000006  2014-01-01 00:05:17.000     NaN      PHONE   \n",
       "3  2014    LAW   14000007  2014-01-01 00:08:36.000     NaN       SELF   \n",
       "4  2014    LAW   14000011  2014-01-01 00:10:21.000     NaN       E911   \n",
       "\n",
       "         nature closecode                        closed_as  secs_to_disp  \\\n",
       "0  TRAFFIC STOP      UTC   UNIFORM TRAFFIC CITATION ISSUED           1.0   \n",
       "1  TRAFFIC STOP      ADVI                          ADVISED           0.0   \n",
       "2       DISPUTE      ADVI                          ADVISED         219.0   \n",
       "3  TRAFFIC STOP      WARN                          WARNING           0.0   \n",
       "4         THEFT      RSLV                         RESOLVED         168.0   \n",
       "\n",
       "   secs_to_arrv  secs_to_close  disp  arrv  beat priority    zip primeunit  \\\n",
       "0           1.0            690     1     1  EP05        6  97402    5Z51     \n",
       "1           0.0            170     1     1  EP02        6  97401    5T82     \n",
       "2         596.0           1444     1     1  EP01        3  97401    5E93     \n",
       "3           0.0            427     1     1  EP02        6  97401    5E31     \n",
       "4         380.0           1126     1     1  EP05        3  97402    6E45     \n",
       "\n",
       "   units_dispd  units_arrived  \n",
       "0            1              1  \n",
       "1            2              2  \n",
       "2            3              2  \n",
       "3            2              2  \n",
       "4            2              2  "
      ]
     },
     "execution_count": 52,
     "metadata": {},
     "output_type": "execute_result"
    }
   ],
   "source": [
    "call = pd.concat([call14, call15, call16, call17, call18, call19, call20, call21, call22, call23, call24, call25], axis=0, join='outer', ignore_index=True)\n",
    "call.head()"
   ]
  },
  {
   "attachments": {},
   "cell_type": "markdown",
   "metadata": {},
   "source": [
    "## Cleaning Data and Calculating Variables"
   ]
  },
  {
   "attachments": {},
   "cell_type": "markdown",
   "metadata": {},
   "source": [
    "* Dropping unnecessary columns\n",
    "* Synchronizing the 'primeunit' column\n",
    "* Dropping uneccesary columns\n",
    "* Calculating response time\n",
    "    * Calculated response time by secs_to_arrv - secs_to_disp\n",
    "    * Dropped the rows where 'callsource' == self since this could skew the response time. \n",
    "    * __ values had negative response times. I dropped this rows as I expect they were data entry errors.\n"
   ]
  },
  {
   "cell_type": "code",
   "execution_count": 32,
   "metadata": {},
   "outputs": [],
   "source": [
    "call.drop(['inci_id', \"case_id\", 'closecode', 'closed_as', 'disp', 'arrv', 'beat', 'zip','units_dispd', 'units_arrived'], axis = 1, inplace=True)"
   ]
  },
  {
   "cell_type": "code",
   "execution_count": 33,
   "metadata": {},
   "outputs": [],
   "source": [
    "call['calltime'] = pd.to_datetime(call[\"calltime\"])\n",
    "call['month'] = call['calltime'].dt.month"
   ]
  },
  {
   "cell_type": "code",
   "execution_count": 34,
   "metadata": {},
   "outputs": [],
   "source": [
    "call.dropna(subset = ['primeunit', 'secs_to_arrv', 'secs_to_disp'], inplace=True)"
   ]
  },
  {
   "attachments": {},
   "cell_type": "markdown",
   "metadata": {},
   "source": [
    "Cleaning 'primeunit'"
   ]
  },
  {
   "cell_type": "code",
   "execution_count": 35,
   "metadata": {},
   "outputs": [],
   "source": [
    "cht_primary = call['primeunit'].isin([\"1J77\",\"3J79\",\"3J78\",\"3J77\",\"4J79\",\"3J81\",\"3J76\",\"2J28\",\"2J29\",\"CAHOOT\",\"CAHOT\",\"CAHO\"])\n",
    "call.loc[cht_primary,'primeunit' ] = 'CAHOT'\n",
    "call.loc[call['primeunit'] != 'CAHOT', 'primeunit'] = 'EPD'"
   ]
  },
  {
   "cell_type": "code",
   "execution_count": 36,
   "metadata": {},
   "outputs": [
    {
     "data": {
      "text/plain": [
       "array(['EPD', 'CAHOT'], dtype=object)"
      ]
     },
     "execution_count": 36,
     "metadata": {},
     "output_type": "execute_result"
    }
   ],
   "source": [
    "call['primeunit'].unique()"
   ]
  },
  {
   "attachments": {},
   "cell_type": "markdown",
   "metadata": {},
   "source": [
    "Calculating response time"
   ]
  },
  {
   "cell_type": "code",
   "execution_count": 37,
   "metadata": {},
   "outputs": [],
   "source": [
    "call['response_time'] = (call['secs_to_arrv'] - call[\"secs_to_disp\"])/ 60"
   ]
  },
  {
   "cell_type": "code",
   "execution_count": 38,
   "metadata": {},
   "outputs": [],
   "source": [
    "response_time = (call['secs_to_arrv'] - call[\"secs_to_disp\"])/60"
   ]
  },
  {
   "cell_type": "code",
   "execution_count": 39,
   "metadata": {},
   "outputs": [],
   "source": [
    "zero_time_source = call[call['response_time']== 0]['callsource'].value_counts().reset_index()\n",
    "zero_time_nature = call[call['response_time']== 0]['nature'].value_counts().reset_index()\n"
   ]
  },
  {
   "cell_type": "code",
   "execution_count": 40,
   "metadata": {},
   "outputs": [
    {
     "data": {
      "text/html": [
       "<div>\n",
       "<style scoped>\n",
       "    .dataframe tbody tr th:only-of-type {\n",
       "        vertical-align: middle;\n",
       "    }\n",
       "\n",
       "    .dataframe tbody tr th {\n",
       "        vertical-align: top;\n",
       "    }\n",
       "\n",
       "    .dataframe thead th {\n",
       "        text-align: right;\n",
       "    }\n",
       "</style>\n",
       "<table border=\"1\" class=\"dataframe\">\n",
       "  <thead>\n",
       "    <tr style=\"text-align: right;\">\n",
       "      <th></th>\n",
       "      <th>callsource</th>\n",
       "      <th>count</th>\n",
       "    </tr>\n",
       "  </thead>\n",
       "  <tbody>\n",
       "    <tr>\n",
       "      <th>0</th>\n",
       "      <td>SELF</td>\n",
       "      <td>343369</td>\n",
       "    </tr>\n",
       "    <tr>\n",
       "      <th>1</th>\n",
       "      <td>PHONE</td>\n",
       "      <td>53411</td>\n",
       "    </tr>\n",
       "    <tr>\n",
       "      <th>2</th>\n",
       "      <td>W911</td>\n",
       "      <td>9224</td>\n",
       "    </tr>\n",
       "    <tr>\n",
       "      <th>3</th>\n",
       "      <td>E911</td>\n",
       "      <td>5830</td>\n",
       "    </tr>\n",
       "    <tr>\n",
       "      <th>4</th>\n",
       "      <td>RPTO</td>\n",
       "      <td>32</td>\n",
       "    </tr>\n",
       "    <tr>\n",
       "      <th>5</th>\n",
       "      <td>CNTR</td>\n",
       "      <td>25</td>\n",
       "    </tr>\n",
       "    <tr>\n",
       "      <th>6</th>\n",
       "      <td>RADIO</td>\n",
       "      <td>3</td>\n",
       "    </tr>\n",
       "    <tr>\n",
       "      <th>7</th>\n",
       "      <td>TWX</td>\n",
       "      <td>3</td>\n",
       "    </tr>\n",
       "    <tr>\n",
       "      <th>8</th>\n",
       "      <td>TTY</td>\n",
       "      <td>2</td>\n",
       "    </tr>\n",
       "    <tr>\n",
       "      <th>9</th>\n",
       "      <td>DESK</td>\n",
       "      <td>1</td>\n",
       "    </tr>\n",
       "  </tbody>\n",
       "</table>\n",
       "</div>"
      ],
      "text/plain": [
       "  callsource   count\n",
       "0       SELF  343369\n",
       "1      PHONE   53411\n",
       "2       W911    9224\n",
       "3       E911    5830\n",
       "4       RPTO      32\n",
       "5       CNTR      25\n",
       "6      RADIO       3\n",
       "7        TWX       3\n",
       "8        TTY       2\n",
       "9       DESK       1"
      ]
     },
     "execution_count": 40,
     "metadata": {},
     "output_type": "execute_result"
    }
   ],
   "source": [
    "zero_time_source"
   ]
  },
  {
   "cell_type": "code",
   "execution_count": 41,
   "metadata": {},
   "outputs": [
    {
     "data": {
      "text/plain": [
       "<Axes: ylabel='count'>"
      ]
     },
     "execution_count": 41,
     "metadata": {},
     "output_type": "execute_result"
    },
    {
     "data": {
      "image/png": "[encoded data removed]",
      "text/plain": [
       "<Figure size 640x480 with 1 Axes>"
      ]
     },
     "metadata": {},
     "output_type": "display_data"
    }
   ],
   "source": [
    "sns.barplot(zero_time_source['count'])"
   ]
  },
  {
   "cell_type": "code",
   "execution_count": 42,
   "metadata": {},
   "outputs": [
    {
     "name": "stderr",
     "output_type": "stream",
     "text": [
      "/var/folders/v9/p__zvt1n391cg86l79v2m3b00000gn/T/ipykernel_85327/2561269518.py:4: UserWarning: set_ticklabels() should only be used with a fixed number of ticks, i.e. after set_ticks() or using a FixedLocator.\n",
      "  axes[0].set_xticklabels(zero_time_source['callsource'], rotation=45)\n",
      "/var/folders/v9/p__zvt1n391cg86l79v2m3b00000gn/T/ipykernel_85327/2561269518.py:5: UserWarning: set_ticklabels() should only be used with a fixed number of ticks, i.e. after set_ticks() or using a FixedLocator.\n",
      "  axes[1].set_xticklabels(zero_time_nature['nature'], rotation=45)\n"
     ]
    },
    {
     "data": {
      "text/plain": [
       "[Text(0, 0, 'TRAFFIC STOP'),\n",
       " Text(1, 0, 'PATROL CHECK'),\n",
       " Text(2, 0, 'PERSON STOP'),\n",
       " Text(3, 0, 'FOLLOW UP'),\n",
       " Text(4, 0, 'CRIMINAL TRESPASS'),\n",
       " Text(5, 0, 'BEAT INFORMATION'),\n",
       " Text(6, 0, 'ASSIST PUBLIC- POLICE'),\n",
       " Text(7, 0, 'DISORDERLY SUBJECT'),\n",
       " Text(8, 0, 'DISABLED VEHICLE'),\n",
       " Text(9, 0, 'CITIZEN CONTACT')]"
      ]
     },
     "execution_count": 42,
     "metadata": {},
     "output_type": "execute_result"
    },
    {
     "data": {
      "image/png": "[encoded data removed]",
      "text/plain": [
       "<Figure size 1200x600 with 2 Axes>"
      ]
     },
     "metadata": {},
     "output_type": "display_data"
    }
   ],
   "source": [
    "fig, axes = plt.subplots(1, 2, figsize = (12, 6))\n",
    "sns.barplot(zero_time_source['count'], ax = axes[0])\n",
    "sns.barplot(zero_time_nature.head(10)['count'], ax = axes[1])\n",
    "axes[0].set_xticklabels(zero_time_source['callsource'], rotation=45)\n",
    "axes[1].set_xticklabels(zero_time_nature['nature'], rotation=45)\n",
    "\n"
   ]
  },
  {
   "attachments": {},
   "cell_type": "markdown",
   "metadata": {},
   "source": [
    "The overwheming majority of callsource is SELF when response time is equal to zero. I will drop callsource == SELF for my analysis to avoid skewing the response times. "
   ]
  },
  {
   "cell_type": "code",
   "execution_count": 43,
   "metadata": {},
   "outputs": [],
   "source": [
    "call = call.loc[call['callsource'] != 'SELF']"
   ]
  },
  {
   "cell_type": "code",
   "execution_count": 44,
   "metadata": {},
   "outputs": [
    {
     "data": {
      "image/png": "[encoded data removed]",
      "text/plain": [
       "<Figure size 640x480 with 1 Axes>"
      ]
     },
     "metadata": {},
     "output_type": "display_data"
    }
   ],
   "source": [
    "sns.lineplot(data=call, x=call.index, y='response_time', hue='primeunit');"
   ]
  },
  {
   "cell_type": "code",
   "execution_count": 45,
   "metadata": {},
   "outputs": [
    {
     "data": {
      "text/plain": [
       "24"
      ]
     },
     "execution_count": 45,
     "metadata": {},
     "output_type": "execute_result"
    }
   ],
   "source": [
    "call[call['response_time'] < 0].shape[0]"
   ]
  },
  {
   "cell_type": "code",
   "execution_count": 46,
   "metadata": {},
   "outputs": [],
   "source": [
    "call = call.loc[call['response_time'] >= 0]"
   ]
  },
  {
   "cell_type": "code",
   "execution_count": 47,
   "metadata": {},
   "outputs": [],
   "source": [
    "call.to_csv('call.csv')"
   ]
  }
 ],
 "metadata": {
  "kernelspec": {
   "display_name": "Python 3",
   "language": "python",
   "name": "python3"
  },
  "language_info": {
   "codemirror_mode": {
    "name": "ipython",
    "version": 3
   },
   "file_extension": ".py",
   "mimetype": "text/x-python",
   "name": "python",
   "nbconvert_exporter": "python",
   "pygments_lexer": "ipython3",
   "version": "3.12.2"
  },
  "orig_nbformat": 4,
  "vscode": {
   "interpreter": {
    "hash": "40d3a090f54c6569ab1632332b64b2c03c39dcf918b08424e98f38b5ae0af88f"
   }
  }
 },
 "nbformat": 4,
 "nbformat_minor": 2
}
